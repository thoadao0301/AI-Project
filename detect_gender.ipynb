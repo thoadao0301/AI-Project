{
 "metadata": {
  "language_info": {
   "codemirror_mode": {
    "name": "ipython",
    "version": 3
   },
   "file_extension": ".py",
   "mimetype": "text/x-python",
   "name": "python",
   "nbconvert_exporter": "python",
   "pygments_lexer": "ipython3",
   "version": "3.8.7"
  },
  "orig_nbformat": 2,
  "kernelspec": {
   "name": "pythonjvsc74a57bd01d47242b4f987ccc7303ebfe5e996a04beae05d96bb082f48db33a259214c3fe",
   "display_name": "Python 3.8.7  ('myenv': venv)"
  },
  "metadata": {
   "interpreter": {
    "hash": "1d47242b4f987ccc7303ebfe5e996a04beae05d96bb082f48db33a259214c3fe"
   }
  }
 },
 "nbformat": 4,
 "nbformat_minor": 2,
 "cells": [
  {
   "cell_type": "code",
   "execution_count": null,
   "metadata": {},
   "outputs": [],
   "source": [
    "!pip install "
   ]
  }
 ]
}