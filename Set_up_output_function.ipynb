{
  "nbformat": 4,
  "nbformat_minor": 0,
  "metadata": {
    "colab": {
      "name": "Set up output function.ipynb",
      "provenance": [],
      "collapsed_sections": [],
      "authorship_tag": "ABX9TyMh5gZBceLktYjqPmEM1b6z",
      "include_colab_link": true
    },
    "kernelspec": {
      "name": "python3",
      "display_name": "Python 3"
    },
    "language_info": {
      "name": "python"
    }
  },
  "cells": [
    {
      "cell_type": "markdown",
      "metadata": {
        "id": "view-in-github",
        "colab_type": "text"
      },
      "source": [
        "<a href=\"https://colab.research.google.com/github/thoadao0301/AI-Project/blob/NamTP/Set_up_output_function.ipynb\" target=\"_parent\"><img src=\"https://colab.research.google.com/assets/colab-badge.svg\" alt=\"Open In Colab\"/></a>"
      ]
    },
    {
      "cell_type": "code",
      "metadata": {
        "id": "OkkyNx9rTXj8"
      },
      "source": [
        "from google.colab import drive\n",
        "drive.mount('/content/drive')"
      ],
      "execution_count": null,
      "outputs": []
    },
    {
      "cell_type": "code",
      "metadata": {
        "id": "c3aJJj4CTdP0"
      },
      "source": [
        "!pip install keras_facenet"
      ],
      "execution_count": null,
      "outputs": []
    },
    {
      "cell_type": "code",
      "metadata": {
        "id": "P6L9K-9_TebR"
      },
      "source": [
        "import sys\n",
        "import os, random\n",
        "import numpy as np\n",
        "import tensorflow as tf\n",
        "import matplotlib.pyplot as plt\n",
        "import cv2\n",
        "from PIL import Image\n",
        "from tqdm import tqdm\n",
        "from keras_facenet import FaceNet\n",
        "os.environ['TF_XLA_FLAGS'] = '--tf_xla_enable_xla_devices'"
      ],
      "execution_count": null,
      "outputs": []
    },
    {
      "cell_type": "markdown",
      "metadata": {
        "id": "gnXp9Dadw3u3"
      },
      "source": [
        "# **Training classification**\n",
        "\n",
        "---\n",
        "\n"
      ]
    },
    {
      "cell_type": "markdown",
      "metadata": {
        "id": "QJ2ZWeieKSsQ"
      },
      "source": [
        "## Prepare dataset"
      ]
    },
    {
      "cell_type": "code",
      "metadata": {
        "id": "IqZEBiVfVTvX"
      },
      "source": [
        "# Gets a detection dict for each face\n",
        "# in an image. Each one has the bounding box and\n",
        "# face landmarks (from mtcnn.MTCNN) along with\n",
        "# the embedding from FaceNet.\n",
        "# return List of embedded images in folder\n",
        "def get_embedding(dir, embedder):\n",
        "    x = []\n",
        "    for filename in listdir(dir):\n",
        "        # set up file path\n",
        "        filepath = os.path.join(dir,filename) \n",
        "        # load image from file\n",
        "        image = Image.open(filepath)\n",
        "        # convert to RGB, if needed\n",
        "        image = image.convert('RGB')\n",
        "        # convert to array\n",
        "        pixels = np.asarray(image)\n",
        "        # get embeddings for the faces in an image\n",
        "        detections = embedder.extract(pixels, threshold=0.95)\n",
        "        if(len(detections)<1):\n",
        "            print('ERROR: Can\\'t not detect face: ',filepath)\n",
        "            continue\n",
        "        if(len(detections)>1):\n",
        "            print('ERROR: More than two face detected: ', filepath)\n",
        "            continue\n",
        "        x.append(detections[0]['embedding'])\n",
        "    return x\n"
      ],
      "execution_count": null,
      "outputs": []
    },
    {
      "cell_type": "code",
      "metadata": {
        "id": "EO4ulbectP33"
      },
      "source": [
        "# Get embedded list images and list labels in folder\n",
        "def load_dataset(dir, embedder):\n",
        "    x , y = [],[]\n",
        "    for subdir in listdir(dir):\n",
        "        subdir_path = dir+'/'+subdir\n",
        "        \n",
        "        data_embedding = get_embedding(subdir_path, embedder)\n",
        "        for data in data_embedding:\n",
        "            x.append(data)\n",
        "            y.append(subdir)\n",
        "    return x, y"
      ],
      "execution_count": null,
      "outputs": []
    },
    {
      "cell_type": "code",
      "metadata": {
        "id": "STaXGOQgprbU"
      },
      "source": [
        "# Create embedder tools with keras_facenet\n",
        "embedder = FaceNet()"
      ],
      "execution_count": null,
      "outputs": []
    },
    {
      "cell_type": "code",
      "metadata": {
        "id": "trbPV-P3hrAP"
      },
      "source": [
        "# Create train dataset\n",
        "dataset_train_path= '/content/drive/Shareddrives/AI_Project/DatasetVietNam/DataVietNam/VietNam/VN_Male' # Train data path\n",
        "train_x, train_y = load_dataset(dataset_train_path, embedder)"
      ],
      "execution_count": null,
      "outputs": []
    },
    {
      "cell_type": "code",
      "metadata": {
        "id": "3dyKfp0CUcdS"
      },
      "source": [
        "# Create test dataset\n",
        "dataset_test_path= '/content/drive/Shareddrives/AI_Project/DatasetVietNam/DataVietNam/VietNam/VN_Male_Test' # Test data path\n",
        "test_x, test_y = load_dataset(dataset_test_path, embedder)"
      ],
      "execution_count": null,
      "outputs": []
    },
    {
      "cell_type": "markdown",
      "metadata": {
        "id": "QB_kEPEUMwzx"
      },
      "source": [
        "## Training model classification using SVM method"
      ]
    },
    {
      "cell_type": "code",
      "metadata": {
        "id": "x1CNztoVrdkU"
      },
      "source": [
        "from sklearn.preprocessing import LabelEncoder\n",
        "from sklearn.svm import SVC\n",
        "\n",
        "# label encode targets\n",
        "out_encoder = LabelEncoder()\n",
        "out_encoder.fit(train_y)\n",
        "train_y = out_encoder.transform(train_y)\n",
        "test_y = out_encoder.transform(test_y)"
      ],
      "execution_count": null,
      "outputs": []
    },
    {
      "cell_type": "code",
      "metadata": {
        "id": "ku2Pc34proVt"
      },
      "source": [
        "# tranning model\n",
        "model = SVC(kernel='linear', probability=True)\n",
        "model.fit(train_x, train_y)\n",
        "# score\n",
        "score_train = model.score(train_x, train_y)\n",
        "score_test = model.score(test_x, test_y)\n",
        "# summarize\n",
        "print('Accuracy: train=%.3f, test=%.3f' % (score_train*100, score_test*100))"
      ],
      "execution_count": null,
      "outputs": []
    },
    {
      "cell_type": "markdown",
      "metadata": {
        "id": "wz7R2a4NNSZQ"
      },
      "source": [
        "## Use model to recognize faces in images (test for show image and probrability)"
      ]
    },
    {
      "cell_type": "code",
      "metadata": {
        "colab": {
          "base_uri": "https://localhost:8080/",
          "height": 229
        },
        "id": "TlNFaQhcTz_C",
        "outputId": "25f79604-7a5a-4e8e-cbe2-98e617a29ec2"
      },
      "source": [
        "# Get predict of image\n",
        "import cv2\n",
        "# read image from file path\n",
        "image = cv2.imread('') # Image test path\n",
        "# convert to RGB, if needed\n",
        "image = cv2.cvtColor(image, cv2.COLOR_BGR2RGB)\n",
        "# convert to array\n",
        "pixels = asarray(image)\n",
        "# create the detector, using default weights\n",
        "detections = embedder.extract(pixels)\n",
        "# loop through each face in detections\n",
        "for detect in detections:\n",
        "    # get embedded image\n",
        "    embedded_img = detect['embedding']\n",
        "\n",
        "    # expand dimension for feeding data to the model\n",
        "    samples = np.expand_dims(embedded_img, axis=0)\n",
        "\n",
        "    # get predict from model\n",
        "    yhat_class = model.predict(samples)\n",
        "    yhat_prob = model.predict_proba(samples)\n",
        "\n",
        "    # get label name\n",
        "    class_index = yhat_class[0]\n",
        "    predict_names = out_encoder.inverse_transform(yhat_class)[0]\n",
        "\n",
        "    # get probability\n",
        "    class_probability = round(yhat_prob[0,class_index] * 100)\n",
        "    print('Predict image has person: ', predict_names, ' with confidence:', class_probability)"
      ],
      "execution_count": 1,
      "outputs": [
        {
          "output_type": "error",
          "ename": "error",
          "evalue": "ignored",
          "traceback": [
            "\u001b[0;31m---------------------------------------------------------------------------\u001b[0m",
            "\u001b[0;31merror\u001b[0m                                     Traceback (most recent call last)",
            "\u001b[0;32m<ipython-input-1-3f2201af5de1>\u001b[0m in \u001b[0;36m<module>\u001b[0;34m()\u001b[0m\n\u001b[1;32m      4\u001b[0m \u001b[0mimage\u001b[0m \u001b[0;34m=\u001b[0m \u001b[0mcv2\u001b[0m\u001b[0;34m.\u001b[0m\u001b[0mimread\u001b[0m\u001b[0;34m(\u001b[0m\u001b[0;34m''\u001b[0m\u001b[0;34m)\u001b[0m \u001b[0;31m# Image test path\u001b[0m\u001b[0;34m\u001b[0m\u001b[0;34m\u001b[0m\u001b[0m\n\u001b[1;32m      5\u001b[0m \u001b[0;31m# convert to RGB, if needed\u001b[0m\u001b[0;34m\u001b[0m\u001b[0;34m\u001b[0m\u001b[0;34m\u001b[0m\u001b[0m\n\u001b[0;32m----> 6\u001b[0;31m \u001b[0mimage\u001b[0m \u001b[0;34m=\u001b[0m \u001b[0mcv2\u001b[0m\u001b[0;34m.\u001b[0m\u001b[0mcvtColor\u001b[0m\u001b[0;34m(\u001b[0m\u001b[0mimage\u001b[0m\u001b[0;34m,\u001b[0m \u001b[0mcv2\u001b[0m\u001b[0;34m.\u001b[0m\u001b[0mCOLOR_BGR2RGB\u001b[0m\u001b[0;34m)\u001b[0m\u001b[0;34m\u001b[0m\u001b[0;34m\u001b[0m\u001b[0m\n\u001b[0m\u001b[1;32m      7\u001b[0m \u001b[0;31m# convert to array\u001b[0m\u001b[0;34m\u001b[0m\u001b[0;34m\u001b[0m\u001b[0;34m\u001b[0m\u001b[0m\n\u001b[1;32m      8\u001b[0m \u001b[0mpixels\u001b[0m \u001b[0;34m=\u001b[0m \u001b[0masarray\u001b[0m\u001b[0;34m(\u001b[0m\u001b[0mimage\u001b[0m\u001b[0;34m)\u001b[0m\u001b[0;34m\u001b[0m\u001b[0;34m\u001b[0m\u001b[0m\n",
            "\u001b[0;31merror\u001b[0m: OpenCV(4.1.2) /io/opencv/modules/imgproc/src/color.cpp:182: error: (-215:Assertion failed) !_src.empty() in function 'cvtColor'\n"
          ]
        }
      ]
    }
  ]
}